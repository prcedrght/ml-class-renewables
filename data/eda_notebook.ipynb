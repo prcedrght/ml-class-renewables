version https://git-lfs.github.com/spec/v1
oid sha256:eca3e016d8864fa7ebb908ae89d84f86bb7ce0f352e79c20a23c431941c487c8
size 2077856
